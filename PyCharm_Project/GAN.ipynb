{
 "cells": [
  {
   "cell_type": "code",
   "execution_count": 1,
   "metadata": {
    "collapsed": true
   },
   "outputs": [],
   "source": [
    "import os\n",
    "import psutil\n",
    "import numpy as np\n",
    "from timeit import default_timer as timer\n",
    "from matplotlib import pyplot as plt\n",
    "import cv2\n",
    "import imghdr\n",
    "import scipy.ndimage as filters\n",
    "\n",
    "import tensorflow as tf\n",
    "from keras.models import Sequential, Model\n",
    "from keras.layers import Conv2D, Dense, Flatten, Reshape, LeakyReLU, Dropout, UpSampling2D\n",
    "from keras.optimizers import Adam\n",
    "from keras.losses import BinaryCrossentropy\n",
    "from keras.utils import array_to_img\n",
    "from keras.callbacks import Callback\n",
    "# import tensorflow_datasets as tfds"
   ]
  },
  {
   "cell_type": "code",
   "execution_count": 2,
   "outputs": [],
   "source": [
    "gpus = tf.config.experimental.list_physical_devices('GPU')\n",
    "for gpu in gpus:\n",
    "    tf.config.experimental.set_memory_growth(gpu, True)"
   ],
   "metadata": {
    "collapsed": false
   }
  },
  {
   "cell_type": "code",
   "execution_count": 3,
   "outputs": [],
   "source": [
    "data_dir = 'GAN_Custom_Dataset'\n",
    "image_exts = ['jpeg','jpg', 'bmp', 'png']\n",
    "\n",
    "for image_class in os.listdir(data_dir):\n",
    "    for image in os.listdir(os.path.join(data_dir, image_class)):\n",
    "        image_path = os.path.join(data_dir, image_class, image)\n",
    "        try:\n",
    "            img = cv2.imread(image_path)\n",
    "            tip = imghdr.what(image_path)\n",
    "            if tip not in image_exts:\n",
    "                print('Image not in ext list {}'.format(image_path))\n",
    "                os.remove(image_path)\n",
    "        except Exception as e:\n",
    "            print('Issue with image {}'.format(image_path))\n",
    "            # os.remove(image_path)"
   ],
   "metadata": {
    "collapsed": false
   }
  },
  {
   "cell_type": "code",
   "execution_count": 4,
   "outputs": [
    {
     "name": "stdout",
     "output_type": "stream",
     "text": [
      "Found 39 files belonging to 1 classes.\n"
     ]
    }
   ],
   "source": [
    "ds = tf.keras.utils.image_dataset_from_directory(directory='GAN_Custom_Dataset',\n",
    "                                                 color_mode='grayscale',\n",
    "                                                 batch_size=32,\n",
    "                                                 image_size=(28, 28),\n",
    "                                                 shuffle=True,\n",
    "                                                 seed=42)\n",
    "ds = ds.as_numpy_iterator()\n",
    "ds = next(ds)[0]"
   ],
   "metadata": {
    "collapsed": false
   }
  },
  {
   "cell_type": "code",
   "execution_count": 5,
   "outputs": [],
   "source": [
    "def build_generator():\n",
    "    model = Sequential()\n",
    "\n",
    "    # Takes in random values and reshapes it to 7x7x128\n",
    "    # Beginnings of a generated image\n",
    "    model.add(Dense(7*7*128, input_dim=128))\n",
    "    model.add(LeakyReLU(0.2))\n",
    "    model.add(Reshape((7,7,128)))\n",
    "\n",
    "    for _ in range(4):\n",
    "        model.add(UpSampling2D())\n",
    "        model.add(Conv2D(128, 5, padding='same'))\n",
    "        model.add(LeakyReLU(0.2))\n",
    "\n",
    "    for _ in range(2):\n",
    "        model.add(Conv2D(128, 4, padding='same'))\n",
    "        model.add(LeakyReLU(0.2))\n",
    "\n",
    "    # Conv layer to get to one channel\n",
    "    model.add(Conv2D(1, 4, padding='same', activation='sigmoid'))\n",
    "\n",
    "    return model"
   ],
   "metadata": {
    "collapsed": false
   }
  },
  {
   "cell_type": "code",
   "execution_count": 6,
   "outputs": [
    {
     "name": "stdout",
     "output_type": "stream",
     "text": [
      "Model: \"sequential\"\n",
      "_________________________________________________________________\n",
      " Layer (type)                Output Shape              Param #   \n",
      "=================================================================\n",
      " dense (Dense)               (None, 6272)              809088    \n",
      "                                                                 \n",
      " leaky_re_lu (LeakyReLU)     (None, 6272)              0         \n",
      "                                                                 \n",
      " reshape (Reshape)           (None, 7, 7, 128)         0         \n",
      "                                                                 \n",
      " up_sampling2d (UpSampling2D  (None, 14, 14, 128)      0         \n",
      " )                                                               \n",
      "                                                                 \n",
      " conv2d (Conv2D)             (None, 14, 14, 128)       409728    \n",
      "                                                                 \n",
      " leaky_re_lu_1 (LeakyReLU)   (None, 14, 14, 128)       0         \n",
      "                                                                 \n",
      " up_sampling2d_1 (UpSampling  (None, 28, 28, 128)      0         \n",
      " 2D)                                                             \n",
      "                                                                 \n",
      " conv2d_1 (Conv2D)           (None, 28, 28, 128)       409728    \n",
      "                                                                 \n",
      " leaky_re_lu_2 (LeakyReLU)   (None, 28, 28, 128)       0         \n",
      "                                                                 \n",
      " up_sampling2d_2 (UpSampling  (None, 56, 56, 128)      0         \n",
      " 2D)                                                             \n",
      "                                                                 \n",
      " conv2d_2 (Conv2D)           (None, 56, 56, 128)       409728    \n",
      "                                                                 \n",
      " leaky_re_lu_3 (LeakyReLU)   (None, 56, 56, 128)       0         \n",
      "                                                                 \n",
      " up_sampling2d_3 (UpSampling  (None, 112, 112, 128)    0         \n",
      " 2D)                                                             \n",
      "                                                                 \n",
      " conv2d_3 (Conv2D)           (None, 112, 112, 128)     409728    \n",
      "                                                                 \n",
      " leaky_re_lu_4 (LeakyReLU)   (None, 112, 112, 128)     0         \n",
      "                                                                 \n",
      " conv2d_4 (Conv2D)           (None, 112, 112, 128)     262272    \n",
      "                                                                 \n",
      " leaky_re_lu_5 (LeakyReLU)   (None, 112, 112, 128)     0         \n",
      "                                                                 \n",
      " conv2d_5 (Conv2D)           (None, 112, 112, 128)     262272    \n",
      "                                                                 \n",
      " leaky_re_lu_6 (LeakyReLU)   (None, 112, 112, 128)     0         \n",
      "                                                                 \n",
      " conv2d_6 (Conv2D)           (None, 112, 112, 1)       2049      \n",
      "                                                                 \n",
      "=================================================================\n",
      "Total params: 2,974,593\n",
      "Trainable params: 2,974,593\n",
      "Non-trainable params: 0\n",
      "_________________________________________________________________\n"
     ]
    }
   ],
   "source": [
    "generator = build_generator()\n",
    "generator.summary()"
   ],
   "metadata": {
    "collapsed": false
   }
  },
  {
   "cell_type": "code",
   "execution_count": 7,
   "outputs": [],
   "source": [
    "# def build_discriminator():\n",
    "#     model = Sequential()\n",
    "#\n",
    "#     # Adding initial convolutional layer & declaring input shape (same as generator output shape; 64x64x1)\n",
    "#     model.add(Conv2D(32, 4, input_shape = (64,64,1)))\n",
    "#     model.add(LeakyReLU(0.2))\n",
    "#     model.add(Dropout(0.4))\n",
    "#\n",
    "#     # Adding additional convolutional layers\n",
    "#     for i in [64, 128, 256]:\n",
    "#         model.add(Conv2D(i, 5))\n",
    "#         model.add(LeakyReLU(0.2))\n",
    "#         model.add(Dropout(0.4))\n",
    "#\n",
    "#     # Flattening & passing through a dense layer to output a value between 0 and 1 (0=fake; 1=real)\n",
    "#     model.add(Flatten())\n",
    "#     model.add(Dropout(0.4))\n",
    "#     model.add(Dense(1))\n",
    "#\n",
    "#     return model\n",
    "\n",
    "def build_discriminator():\n",
    "    model = Sequential()\n",
    "\n",
    "    # First Conv Block\n",
    "    model.add(Conv2D(32, 5, input_shape = (28,28,1)))\n",
    "    model.add(LeakyReLU(0.2))\n",
    "    model.add(Dropout(0.4))\n",
    "\n",
    "    for i in [64, 128, 256]:\n",
    "        model.add(Conv2D(i, 5))\n",
    "        model.add(LeakyReLU(0.2))\n",
    "        model.add(Dropout(0.4))\n",
    "\n",
    "    # Flatten then pass to dense layer\n",
    "    model.add(Flatten())\n",
    "    model.add(Dropout(0.4))\n",
    "    model.add(Dense(1, activation='sigmoid'))\n",
    "\n",
    "    return model"
   ],
   "metadata": {
    "collapsed": false
   }
  },
  {
   "cell_type": "code",
   "execution_count": 8,
   "outputs": [
    {
     "name": "stdout",
     "output_type": "stream",
     "text": [
      "Model: \"sequential_1\"\n",
      "_________________________________________________________________\n",
      " Layer (type)                Output Shape              Param #   \n",
      "=================================================================\n",
      " conv2d_7 (Conv2D)           (None, 24, 24, 32)        832       \n",
      "                                                                 \n",
      " leaky_re_lu_7 (LeakyReLU)   (None, 24, 24, 32)        0         \n",
      "                                                                 \n",
      " dropout (Dropout)           (None, 24, 24, 32)        0         \n",
      "                                                                 \n",
      " conv2d_8 (Conv2D)           (None, 20, 20, 64)        51264     \n",
      "                                                                 \n",
      " leaky_re_lu_8 (LeakyReLU)   (None, 20, 20, 64)        0         \n",
      "                                                                 \n",
      " dropout_1 (Dropout)         (None, 20, 20, 64)        0         \n",
      "                                                                 \n",
      " conv2d_9 (Conv2D)           (None, 16, 16, 128)       204928    \n",
      "                                                                 \n",
      " leaky_re_lu_9 (LeakyReLU)   (None, 16, 16, 128)       0         \n",
      "                                                                 \n",
      " dropout_2 (Dropout)         (None, 16, 16, 128)       0         \n",
      "                                                                 \n",
      " conv2d_10 (Conv2D)          (None, 12, 12, 256)       819456    \n",
      "                                                                 \n",
      " leaky_re_lu_10 (LeakyReLU)  (None, 12, 12, 256)       0         \n",
      "                                                                 \n",
      " dropout_3 (Dropout)         (None, 12, 12, 256)       0         \n",
      "                                                                 \n",
      " flatten (Flatten)           (None, 36864)             0         \n",
      "                                                                 \n",
      " dropout_4 (Dropout)         (None, 36864)             0         \n",
      "                                                                 \n",
      " dense_1 (Dense)             (None, 1)                 36865     \n",
      "                                                                 \n",
      "=================================================================\n",
      "Total params: 1,113,345\n",
      "Trainable params: 1,113,345\n",
      "Non-trainable params: 0\n",
      "_________________________________________________________________\n"
     ]
    }
   ],
   "source": [
    "discriminator = build_discriminator()\n",
    "discriminator.summary()"
   ],
   "metadata": {
    "collapsed": false
   }
  },
  {
   "cell_type": "code",
   "execution_count": 9,
   "outputs": [],
   "source": [
    "# Creating GAN model class\n",
    "# Custom class to set custom training loop (instead of using default tensorflow loop)\n",
    "class GAN(Model):\n",
    "    # Function to be called when 'GAN' is initialised\n",
    "    def __init__(self, generator, discriminator, *args, **kwargs):\n",
    "        # Passing '*args' and '**kwargs' to inherited tensorflow base class init method\n",
    "        super().__init__(*args, **kwargs)\n",
    "\n",
    "        # Creating generator and discriminator attributes\n",
    "        self.generator = generator\n",
    "        self.discriminator = discriminator\n",
    "\n",
    "    # Function to compile\n",
    "    def compile(self, gen_optimiser, disc_optimiser, gen_loss, disc_loss, *args, **kwargs):\n",
    "        # Passing '*args' and '**kwargs' to inherited tensorflow base class compile method\n",
    "        super().compile(*args, **kwargs)\n",
    "\n",
    "        # Creating attributes for losses and optimisers\n",
    "        self.gen_optimiser = gen_optimiser\n",
    "        self.disc_optimiser = disc_optimiser\n",
    "        self.gen_loss = gen_loss\n",
    "        self.disc_loss = disc_loss\n",
    "\n",
    "    # Function to be called when '.fit()' is called (custom training loop)\n",
    "    def train_step(self, batch):\n",
    "        # Getting fake & real images\n",
    "        real_imgs = batch\n",
    "        fake_imgs = self.generator(tf.random.normal((128, 128, 1)), training=False)\n",
    "        print(real_imgs.shape)\n",
    "        print(fake_imgs.shape)\n",
    "\n",
    "        # Training discriminator\n",
    "        with tf.GradientTape() as disc_gradient_tape:\n",
    "            # Passing real & fake images to discriminator and getting model's predictions\n",
    "            pred_real = self.discriminator(real_imgs, training=True)\n",
    "            pred_fake = self.discriminator(fake_imgs, training=True)\n",
    "            pred_real_fake = tf.concat([pred_real,\n",
    "                                        pred_fake],\n",
    "                                       axis=0)\n",
    "\n",
    "            # Labelling real & fake images (real_imgs=0; fake_imgs=1)\n",
    "            label_real_fake = tf.concat([tf.zeros_like(pred_real),\n",
    "                                         tf.ones_like(pred_fake)],\n",
    "                                        axis=0)\n",
    "\n",
    "            # Adding noise to outputs (results in better training in the long run)\n",
    "            noise_real = 0.15*tf.random.uniform(tf.shape(pred_real))\n",
    "            noise_fake = -0.15*tf.random.uniform(tf.shape(pred_fake))\n",
    "            label_real_fake += tf.concat([noise_real,\n",
    "                                          noise_fake],\n",
    "                                         axis=0)\n",
    "\n",
    "            # Calculating loss function\n",
    "            total_disc_loss = self.disc_loss(label_real_fake, pred_real_fake)\n",
    "\n",
    "        # Applying discriminator back-propagation (passing output data back as input data)\n",
    "        disc_gradient = disc_gradient_tape.gradient(total_disc_loss, self.discriminator.trainable_variables)\n",
    "        self.disc_optimiser.apply_gradients(zip(disc_gradient, self.discriminator.trainable_variables))\n",
    "\n",
    "        #Training generator\n",
    "        with tf.GradientTape() as gen_gradient_tape:\n",
    "            # Generating new images\n",
    "            gen_imgs = self.generator(tf.random.normal((128,128,1)),  training=True)\n",
    "\n",
    "            # Passing generated images to discriminator (training=False to avoid training both models at the exact same time)\n",
    "            pred_labels = self.discriminator(gen_imgs, training=False)\n",
    "\n",
    "            # Calculating loss function\n",
    "            # Passing generated images as real images and rewarding generator if discriminator believes it\n",
    "            # Passing fake predictions: 'tf.zeros_like(pred_labels)' & real predictions 'pred_labels'\n",
    "            total_gen_loss = self.gen_loss(tf.zeros_like(pred_labels), pred_labels)\n",
    "\n",
    "        # Applying generator back-propagation (passing output data back as input data)\n",
    "        gen_gradient = gen_gradient_tape.gradient(total_gen_loss, self.generator.trainable_variables)\n",
    "        self.gen_optimiser.apply_gradients(zip(gen_gradient, self.generator.trainable_variables))\n",
    "\n",
    "        return {\"disc_loss\":total_disc_loss, \"gen_loss\":total_gen_loss}"
   ],
   "metadata": {
    "collapsed": false
   }
  },
  {
   "cell_type": "code",
   "execution_count": 10,
   "outputs": [],
   "source": [
    "class ModelMonitor(Callback):\n",
    "    def __init__(self, num_imgs=3, dim=128):\n",
    "        self.num_imgs = num_imgs\n",
    "        self.dim = dim\n",
    "\n",
    "    def on_epoch_end(self, epoch, logs=None):\n",
    "        if epoch % 500 == 0:\n",
    "            rand_latent_vectors = tf.random.uniform((self.num_imgs, self.dim, 1))\n",
    "            gen_imgs = self.model.generator(rand_latent_vectors)\n",
    "            gen_imgs *=255\n",
    "            gen_imgs.numpy()\n",
    "            for i in range(self.num_imgs):\n",
    "                img = array_to_img(gen_imgs[i])\n",
    "                img.save(os.path.join('GAN_Training_Data', f'generated_img_{epoch}_{i}.png'))\n",
    "            gan.save_weights('Training_Weights/Weights')"
   ],
   "metadata": {
    "collapsed": false
   }
  },
  {
   "cell_type": "code",
   "execution_count": 11,
   "outputs": [],
   "source": [
    "# Setting optimiser and loss functions\n",
    "# discriminator will have a slower learning rate to allow generator to 'catch up'\n",
    "gen_optimiser = Adam(learning_rate=0.000001)\n",
    "gen_loss = BinaryCrossentropy()\n",
    "disc_optimiser = Adam(learning_rate=0.00001)\n",
    "disc_loss = BinaryCrossentropy()\n",
    "\n",
    "gan = GAN(generator, discriminator)\n",
    "gan.compile(gen_optimiser, disc_optimiser, gen_loss, disc_loss)"
   ],
   "metadata": {
    "collapsed": false
   }
  },
  {
   "cell_type": "code",
   "execution_count": 12,
   "outputs": [],
   "source": [
    "# Training model\n",
    "# 2000 epochs recommended\n",
    "# hist = gan.fit(ds, epochs=20, callbacks=[ModelMonitor()], use_multiprocessing=True)\n",
    "# hist = gan.fit(ds, callbacks=[ModelMonitor()], epochs=150000)"
   ],
   "metadata": {
    "collapsed": false
   }
  },
  {
   "cell_type": "code",
   "execution_count": 42,
   "outputs": [
    {
     "name": "stdout",
     "output_type": "stream",
     "text": [
      "1/1 [==============================] - 0s 20ms/step\n",
      "Execution time in MS: 64.06999999990148\n",
      "Memory usage in MB: 328.1640625\n"
     ]
    },
    {
     "data": {
      "text/plain": "<Figure size 333x333 with 1 Axes>",
      "image/png": "[encoded data removed]"
     },
     "metadata": {},
     "output_type": "display_data"
    }
   ],
   "source": [
    "# Starting timer\n",
    "start = timer()\n",
    "\n",
    "pred = generator.predict(np.random.randn(1, 128))\n",
    "img = filters.gaussian_filter(pred[0], sigma=2)\n",
    "\n",
    "# Ending timer\n",
    "end = timer()\n",
    "print(\"Execution time in MS:\", (end-start) * 1000)\n",
    "print(\"Memory usage in MB:\", psutil.Process(os.getpid()).memory_info().rss / 1024 ** 2)\n",
    "\n",
    "plt.figure(figsize=(333, 333), dpi=1)\n",
    "plt.imshow(img, cmap='gray')\n",
    "plt.setp(plt.gcf().get_axes(), xticks=[], yticks=[])\n",
    "for pos in ['right', 'top', 'bottom', 'left']:\n",
    "    plt.gca().spines[pos].set_visible(False)\n",
    "plt.savefig('Outputs/Heightmaps/Diamond_Square_Heightmap.png', bbox_inches='tight', pad_inches=0, dpi=1)\n"
   ],
   "metadata": {
    "collapsed": false
   }
  }
 ],
 "metadata": {
  "kernelspec": {
   "display_name": "Python 3",
   "language": "python",
   "name": "python3"
  },
  "language_info": {
   "codemirror_mode": {
    "name": "ipython",
    "version": 2
   },
   "file_extension": ".py",
   "mimetype": "text/x-python",
   "name": "python",
   "nbconvert_exporter": "python",
   "pygments_lexer": "ipython2",
   "version": "2.7.6"
  }
 },
 "nbformat": 4,
 "nbformat_minor": 0
}
